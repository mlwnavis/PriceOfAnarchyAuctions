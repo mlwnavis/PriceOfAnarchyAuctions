{
 "cells": [
  {
   "cell_type": "code",
   "execution_count": 3,
   "metadata": {
    "collapsed": true,
    "pycharm": {
     "name": "#%%\n"
    }
   },
   "outputs": [
    {
     "name": "stdout",
     "output_type": "stream",
     "text": [
      "Top 10 lines\n",
      "#1: C:\\Users\\BłażejNiewisiewicz\\AppData\\Local\\Programs\\Python\\Python310\\lib\\linecache.py:137: 751.7 KiB\n",
      "    lines = fp.readlines()\n",
      "#2: C:\\Users\\BłażejNiewisiewicz\\AppData\\Local\\Temp\\ipykernel_29220\\1289246286.py:32: 332.5 KiB\n",
      "    b = [2**x for x in range(0,2000)]\n",
      "#3: C:\\Users\\BłażejNiewisiewicz\\AppData\\Local\\Temp\\ipykernel_29220\\1289246286.py:30: 170.6 KiB\n",
      "    a = [1 + x for x in range(0,5000)]\n",
      "#4: C:\\Users\\BłażejNiewisiewicz\\AppData\\Local\\Programs\\Python\\Python310\\lib\\tracemalloc.py:67: 43.5 KiB\n",
      "    return (self.size, self.count, self.traceback)\n",
      "#5: C:\\Users\\BłażejNiewisiewicz\\Repositories\\odyn_automated_pricing\\venv\\lib\\site-packages\\IPython\\core\\compilerop.py:86: 38.5 KiB\n",
      "    return compile(source, filename, symbol, self.flags | PyCF_ONLY_AST, 1)\n",
      "#6: C:\\Users\\BłażejNiewisiewicz\\AppData\\Local\\Programs\\Python\\Python310\\lib\\tracemalloc.py:193: 32.2 KiB\n",
      "    self._frames = tuple(reversed(frames))\n",
      "#7: C:\\Users\\BłażejNiewisiewicz\\AppData\\Local\\Programs\\Python\\Python310\\lib\\tokenize.py:530: 27.6 KiB\n",
      "    spos, epos, pos = (lnum, start), (lnum, end), end\n",
      "#8: C:\\Users\\BłażejNiewisiewicz\\AppData\\Local\\Programs\\Python\\Python310\\lib\\tracemalloc.py:558: 20.7 KiB\n",
      "    traces = _get_traces()\n",
      "#9: <frozen importlib._bootstrap_external>:1616: 19.9 KiB\n",
      "#10: C:\\Users\\BłażejNiewisiewicz\\Repositories\\odyn_automated_pricing\\venv\\lib\\site-packages\\IPython\\core\\compilerop.py:174: 18.7 KiB\n",
      "    [line + \"\\n\" for line in transformed_code.splitlines()],\n",
      "729 other: 420.6 KiB\n",
      "Total allocated size: 1876.5 KiB\n"
     ]
    }
   ],
   "source": [
    "import linecache\n",
    "import os\n",
    "import tracemalloc\n",
    "\n",
    "def display_top(snapshot, key_type='lineno', limit=10):\n",
    "    snapshot = snapshot.filter_traces((\n",
    "        tracemalloc.Filter(False, \"<frozen importlib._bootstrap>\"),\n",
    "        tracemalloc.Filter(False, \"<unknown>\"),\n",
    "    ))\n",
    "    top_stats = snapshot.statistics(key_type)\n",
    "\n",
    "    print(\"Top %s lines\" % limit)\n",
    "    for index, stat in enumerate(top_stats[:limit], 1):\n",
    "        frame = stat.traceback[0]\n",
    "        print(\"#%s: %s:%s: %.1f KiB\"\n",
    "              % (index, frame.filename, frame.lineno, stat.size / 1024))\n",
    "        line = linecache.getline(frame.filename, frame.lineno).strip()\n",
    "        if line:\n",
    "            print('    %s' % line)\n",
    "\n",
    "    other = top_stats[limit:]\n",
    "    if other:\n",
    "        size = sum(stat.size for stat in other)\n",
    "        print(\"%s other: %.1f KiB\" % (len(other), size / 1024))\n",
    "    total = sum(stat.size for stat in top_stats)\n",
    "    print(\"Total allocated size: %.1f KiB\" % (total / 1024))\n",
    "\n",
    "tracemalloc.start()\n",
    "\n",
    "a = [1 + x for x in range(0,5000)]\n",
    "\n",
    "b = [2**x for x in range(0,2000)]\n",
    "\n",
    "\n",
    "snapshot = tracemalloc.take_snapshot()\n",
    "display_top(snapshot)"
   ]
  }
 ],
 "metadata": {
  "kernelspec": {
   "display_name": "Python 3",
   "language": "python",
   "name": "python3"
  },
  "language_info": {
   "codemirror_mode": {
    "name": "ipython",
    "version": 2
   },
   "file_extension": ".py",
   "mimetype": "text/x-python",
   "name": "python",
   "nbconvert_exporter": "python",
   "pygments_lexer": "ipython2",
   "version": "2.7.6"
  }
 },
 "nbformat": 4,
 "nbformat_minor": 0
}
