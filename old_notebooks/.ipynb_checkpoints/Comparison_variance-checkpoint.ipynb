{
 "cells": [
  {
   "cell_type": "code",
   "execution_count": 1,
   "id": "153cf511-cf6d-4028-b6df-8980d1615217",
   "metadata": {
    "pycharm": {
     "name": "#%%\n"
    }
   },
   "outputs": [],
   "source": [
    "import numpy as np\n",
    "import matplotlib.pyplot as plt\n",
    "import scipy.stats as stats\n",
    "import seaborn as sns\n",
    "import scipy.interpolate as interp\n",
    "import pandas as pd\n",
    "from helpers import *\n",
    "\n",
    "np.random.seed(1)"
   ]
  },
  {
   "cell_type": "code",
   "execution_count": 2,
   "id": "c4f9288f-d280-40c1-8a2c-90b307a546d6",
   "metadata": {
    "pycharm": {
     "name": "#%%\n"
    }
   },
   "outputs": [],
   "source": [
    "def simulate_auctions(v, max_b, r, n, eps):\n",
    "    mean_first, mean_second, mean_all = [], [], []\n",
    "    for N in range(2,n): \n",
    "\n",
    "        b_mean = bet_Bayes_Nash_all(N, v)\n",
    "        b_variance = produce_variance(b_mean, max_b)\n",
    "        b =  negative_to_zero(bet_normal(b_mean,eps*b_variance), 1)\n",
    "        auctioneer_utility = [sum(bi) for bi in b]\n",
    "        winner_index=np.argmax(b, axis=1)\n",
    "        winner_utility = v[np.arange(r), winner_index] - b[np.arange(r), winner_index]\n",
    "        Welf = v[np.arange(r), winner_index]\n",
    "        Opt =v.max(axis = 1)\n",
    "        PoA = Welf/Opt\n",
    "        mean_all.append(np.mean(PoA))\n",
    "    for N in range(2,n): \n",
    "\n",
    "        b_mean = bet_Bayes_Nash_second(N, v)\n",
    "        b_variance = produce_variance(b_mean, v)\n",
    "        b =  negative_to_zero(bet_normal(b_mean,eps*b_variance), 1)\n",
    "    \n",
    "        sorted_b = np.sort(b, axis=1)[:, ::-1]\n",
    "        auctioneer_utility = [sum(bi) for bi in b]\n",
    "        winner_index=np.argmax(b, axis=1)\n",
    "        winner_utility = v[np.arange(r), winner_index] - np.partition(sorted_b, -2, axis=1)[:, -2]\n",
    "        Welf = v[np.arange(r), winner_index]\n",
    "        Opt =v.max(axis = 1)\n",
    "        PoA = Welf/Opt\n",
    "        mean_second.append(np.mean(PoA))\n",
    "    for N in range(1,n): \n",
    "\n",
    "        b_mean = bet_Bayes_Nash(N, v)\n",
    "        b_variance = produce_variance(b_mean, v)\n",
    "        b =  negative_to_zero(bet_normal(b_mean,eps*b_variance), 1)\n",
    "        winner=np.argmax(b, axis=0)\n",
    "        Welf = v[winner, np.arange(r)]\n",
    "        Opt =v.max(axis = 0)\n",
    "        PoA = Welf/Opt\n",
    "        mean_first.append(np.mean(PoA))\n",
    "    return mean_first, mean_second, mean_all"
   ]
  },
  {
   "cell_type": "code",
   "execution_count": 3,
   "id": "63b9516f-cad1-4b52-a705-83f92bd574fd",
   "metadata": {
    "pycharm": {
     "name": "#%%\n"
    }
   },
   "outputs": [],
   "source": [
    "def simulate_auctions_uniform(r, n):\n",
    "    mean_first, mean_second, mean_all = [], [], []\n",
    "    for N in range(2,n): \n",
    "        v = np.random.uniform(0,1,(N,r))\n",
    "        b =  bet_random(v)\n",
    "        auctioneer_utility = [sum(bi) for bi in b]\n",
    "        winner_index=np.argmax(b, axis=1)\n",
    "        winner_utility = v[np.arange(r), winner_index] - b[np.arange(r), winner_index]\n",
    "        Welf = v[np.arange(r), winner_index]\n",
    "        Opt =v.max(axis = 1)\n",
    "        PoA = Welf/Opt\n",
    "        mean_all.append(np.mean(PoA))\n",
    "    for N in range(2,n): \n",
    "        v = np.random.uniform(0,1,(N,r))\n",
    "        b = bet_random(v)\n",
    "        sorted_b = np.sort(b, axis=1)[:, ::-1]\n",
    "    \n",
    "        auctioneer_utility = [sum(bi) for bi in b]\n",
    "        winner_index=np.argmax(b, axis=1)\n",
    "        winner_utility = v[np.arange(r), winner_index] - np.partition(sorted_b, -2, axis=1)[:, -2]\n",
    "        Welf = v[np.arange(r), winner_index]\n",
    "        Opt =v.max(axis = 1)\n",
    "        PoA = Welf/Opt\n",
    "        mean_second.append(np.mean(PoA))\n",
    "    for N in range(1,n):\n",
    "        v = np.random.uniform(0,1,(N,r))\n",
    "        b = bet_random(v)\n",
    "        winner=np.argmax(b, axis=0)\n",
    "        Welf = v[winner, np.arange(r)]\n",
    "        Opt =v.max(axis = 0)\n",
    "        PoA = Welf/Opt\n",
    "        mean_first.append(np.mean(PoA))\n",
    "    return mean_first, mean_second, mean_all"
   ]
  },
  {
   "cell_type": "code",
   "execution_count": null,
   "id": "3483e90d-141a-4acf-bba5-f1782e33dc74",
   "metadata": {
    "pycharm": {
     "name": "#%%\n"
    }
   },
   "outputs": [],
   "source": [
    "\n"
   ]
  },
  {
   "cell_type": "markdown",
   "id": "e2782bbf-57af-447e-8176-e0f1f0bbd2db",
   "metadata": {
    "pycharm": {
     "name": "#%% md\n"
    }
   },
   "source": [
    "### Z overbettingiem"
   ]
  },
  {
   "cell_type": "code",
   "execution_count": 4,
   "id": "72b7e731-58a1-45f8-841f-2afdcbf658b3",
   "metadata": {
    "pycharm": {
     "name": "#%%\n"
    }
   },
   "outputs": [
    {
     "ename": "NameError",
     "evalue": "name 'v' is not defined",
     "output_type": "error",
     "traceback": [
      "\u001b[0;31m---------------------------------------------------------------------------\u001b[0m",
      "\u001b[0;31mNameError\u001b[0m                                 Traceback (most recent call last)",
      "Cell \u001b[0;32mIn[4], line 1\u001b[0m\n\u001b[0;32m----> 1\u001b[0m Amean_first, Amean_second, Amean_all \u001b[38;5;241m=\u001b[39m simulate_auctions(\u001b[43mv\u001b[49m, \u001b[38;5;241m1\u001b[39m, \u001b[38;5;241m10000\u001b[39m, \u001b[38;5;241m100\u001b[39m, \u001b[38;5;241m1\u001b[39m)\n",
      "\u001b[0;31mNameError\u001b[0m: name 'v' is not defined"
     ]
    }
   ],
   "source": [
    "Amean_first, Amean_second, Amean_all = simulate_auctions(v, 1, 10000, 100, 1)"
   ]
  },
  {
   "cell_type": "code",
   "execution_count": null,
   "id": "36d14d1b-a292-4221-a361-a2318c48d151",
   "metadata": {
    "pycharm": {
     "name": "#%%\n"
    }
   },
   "outputs": [],
   "source": [
    "Bmean_first, Bmean_second, Bmean_all = simulate_auctions(v, 1, 10000, 100, 2)"
   ]
  },
  {
   "cell_type": "code",
   "execution_count": null,
   "id": "72cfa9b3-b783-48ea-9f6b-470a77f0e476",
   "metadata": {
    "pycharm": {
     "name": "#%%\n"
    }
   },
   "outputs": [],
   "source": [
    "Cmean_first, Cmean_second, Cmean_all = simulate_auctions(v, 1, 10000, 100, 3)"
   ]
  },
  {
   "cell_type": "code",
   "execution_count": null,
   "id": "82a710cc-aeec-41da-a34d-a7c16b5bdb5e",
   "metadata": {
    "pycharm": {
     "name": "#%%\n"
    },
    "scrolled": true
   },
   "outputs": [],
   "source": [
    "plt.figure(figsize=(8.27, 11.69))\n",
    "\n",
    "ax1 = plt.subplot(3, 1, 1)\n",
    "ax1.plot(range(1, len(Amean_first) + 1), Amean_first, label='Aukcja pierwszej ceny')\n",
    "ax1.plot(range(1, len(Amean_second) + 1), Amean_second, label='Aukcja drugiej ceny')\n",
    "ax1.plot(range(1, len(Amean_all) + 1), Amean_all, label='Aukcja typu all-pay')\n",
    "ax1.title.set_text('a = 1/3')\n",
    "ax1.legend(loc = 'lower left')\n",
    "plt.xlabel('Ilość graczy')\n",
    "plt.ylabel('Średnia nPoA przy R powtórzeniach')\n",
    "ax1.set_ylim([0.5, 1.05])\n",
    "plt.legend()\n",
    "\n",
    "ax2 =plt.subplot(3, 1, 2)\n",
    "ax2.plot(range(1, len(Bmean_first) + 1), Bmean_first, label='Aukcja pierwszej ceny')\n",
    "ax2.plot(range(1, len(Bmean_second) + 1), Bmean_second, label='Aukcja drugiej ceny')\n",
    "ax2.plot(range(1, len(Bmean_all) + 1), Bmean_all, label='Aukcja typu all-pay')\n",
    "ax2.title.set_text('a = 2/3')\n",
    "ax2.legend(loc = 'lower left')\n",
    "plt.xlabel('Ilość graczy')\n",
    "plt.ylabel('Średnia nPoA przy R powtórzeniach')\n",
    "ax2.set_ylim([0.5, 1.05])\n",
    "plt.legend()\n",
    "\n",
    "ax3 = plt.subplot(3, 1, 3)\n",
    "ax3.plot(range(1, len(Cmean_first) + 1), Cmean_first, label='Aukcja pierwszej ceny')\n",
    "ax3.plot(range(1, len(Cmean_second) + 1), Cmean_second, label='Aukcja drugiej ceny')\n",
    "ax3.plot(range(1, len(Cmean_all) + 1), Cmean_all, label='Aukcja typu all-pay')\n",
    "ax3.title.set_text('a = 1')\n",
    "ax3.legend(loc = 'lower left')\n",
    "ax3.set_ylim([0.5, 1.05])\n",
    "plt.xlabel('Ilość graczy')\n",
    "plt.ylabel('Średnia nPoA przy R powtórzeniach')\n",
    "\n",
    "plt.tight_layout()\n",
    "\n",
    "plt.savefig('pictures/overbetting/comparison.png')\n",
    "plt.tight_layout()\n",
    "plt.show()\n",
    "\n"
   ]
  },
  {
   "cell_type": "code",
   "execution_count": null,
   "id": "cf56b61a-246e-4f53-85e9-7206f657d9b5",
   "metadata": {
    "pycharm": {
     "name": "#%%\n"
    }
   },
   "outputs": [],
   "source": [
    "Amean_first, Amean_second, Amean_all = simulate_auctions(v, 1, 10000, 100, 1)"
   ]
  },
  {
   "cell_type": "code",
   "execution_count": null,
   "id": "e68ee7b0-0c18-4904-9e89-e5a43dfaceab",
   "metadata": {
    "pycharm": {
     "name": "#%%\n"
    }
   },
   "outputs": [],
   "source": [
    "Bmean_first, Bmean_second, Bmean_all = simulate_auctions(v, 1, 10000, 100, 3/4)"
   ]
  },
  {
   "cell_type": "code",
   "execution_count": null,
   "id": "4d0c96f5-0f8d-4475-950d-1ce242f78b26",
   "metadata": {
    "pycharm": {
     "name": "#%%\n"
    }
   },
   "outputs": [],
   "source": [
    "Cmean_first, Cmean_second, Cmean_all = simulate_auctions(v, 1, 10000, 100, 3/5)"
   ]
  },
  {
   "cell_type": "code",
   "execution_count": null,
   "id": "bdcd6651-bbb7-471c-be23-66e8b4442099",
   "metadata": {
    "pycharm": {
     "name": "#%%\n"
    }
   },
   "outputs": [],
   "source": [
    "plt.figure(figsize=(8.27, 11.69))\n",
    "\n",
    "ax1 = plt.subplot(3, 1, 1)\n",
    "ax1.plot(range(1, len(Amean_first) + 1), Amean_first, label='Aukcja pierwszej ceny')\n",
    "ax1.plot(range(1, len(Amean_second) + 1), Amean_second, label='Aukcja drugiej ceny')\n",
    "ax1.plot(range(1, len(Amean_all) + 1), Amean_all, label='Aukcja typu all-pay')\n",
    "ax1.title.set_text('a = 1/3')\n",
    "plt.xlabel('Ilość graczy')\n",
    "plt.ylabel('Średnia nPoA przy R powtórzeniach')\n",
    "ax1.set_ylim([0.5, 1.05])\n",
    "plt.legend()\n",
    "\n",
    "ax2 =plt.subplot(3, 1, 2)\n",
    "ax2.plot(range(1, len(Bmean_first) + 1), Bmean_first, label='Aukcja pierwszej ceny')\n",
    "ax2.plot(range(1, len(Bmean_second) + 1), Bmean_second, label='Aukcja drugiej ceny')\n",
    "ax2.plot(range(1, len(Bmean_all) + 1), Bmean_all, label='Aukcja typu all-pay')\n",
    "ax2.title.set_text('a = 1/4')\n",
    "#plt.legend(loc = 'lower right')\n",
    "plt.xlabel('Ilość graczy')\n",
    "plt.ylabel('Średnia nPoA przy R powtórzeniach')\n",
    "ax2.set_ylim([0.5, 1.05])\n",
    "plt.legend()\n",
    "\n",
    "ax3 = plt.subplot(3, 1, 3)\n",
    "ax3.plot(range(1, len(Cmean_first) + 1), Cmean_first, label='Aukcja pierwszej ceny')\n",
    "ax3.plot(range(1, len(Cmean_second) + 1), Cmean_second, label='Aukcja drugiej ceny')\n",
    "ax3.plot(range(1, len(Cmean_all) + 1), Cmean_all, label='Aukcja typu all-pay')\n",
    "ax3.title.set_text('a = 1/5')\n",
    "ax3.set_ylim([0.5, 1.05])\n",
    "plt.xlabel('Ilość graczy')\n",
    "plt.ylabel('Średnia nPoA przy R powtórzeniach')\n",
    "\n",
    "plt.tight_layout()\n",
    "\n",
    "plt.legend()\n",
    "plt.savefig('pictures/overbetting/comparison2.png')\n",
    "plt.tight_layout()\n",
    "plt.show()\n"
   ]
  },
  {
   "cell_type": "markdown",
   "id": "d8e62816-521e-4aad-8fc3-4937a3f353db",
   "metadata": {
    "pycharm": {
     "name": "#%% md\n"
    }
   },
   "source": [
    "### Bez overbettingu"
   ]
  },
  {
   "cell_type": "code",
   "execution_count": null,
   "id": "6cf85362-f1d3-4880-8ad3-739eeb5cce30",
   "metadata": {
    "pycharm": {
     "name": "#%%\n"
    }
   },
   "outputs": [],
   "source": [
    "Amean_first, Amean_second, Amean_all = simulate_auctions(v, v, 10000, 100, 1)"
   ]
  },
  {
   "cell_type": "code",
   "execution_count": null,
   "id": "2eda9329-ea5d-43d5-a720-8e5e426f39ac",
   "metadata": {
    "pycharm": {
     "name": "#%%\n"
    }
   },
   "outputs": [],
   "source": [
    "Bmean_first, Bmean_second, Bmean_all = simulate_auctions(v, v, 10000, 100, 2)"
   ]
  },
  {
   "cell_type": "code",
   "execution_count": null,
   "id": "e6995b10-e1a8-468b-8b03-5524eba006d2",
   "metadata": {
    "pycharm": {
     "name": "#%%\n"
    }
   },
   "outputs": [],
   "source": [
    "Cmean_first, Cmean_second, Cmean_all = simulate_auctions(v, v, 10000, 100, 3)"
   ]
  },
  {
   "cell_type": "code",
   "execution_count": null,
   "id": "dea1e05e-be98-4ddb-ab70-40fa02306fa1",
   "metadata": {
    "pycharm": {
     "name": "#%%\n"
    }
   },
   "outputs": [],
   "source": [
    "plt.figure(figsize=(8.27, 11.69))\n",
    "\n",
    "ax1 = plt.subplot(3, 1, 1)\n",
    "ax1.plot(range(1, len(Amean_first) + 1), Amean_first, label='Aukcja pierwszej ceny')\n",
    "ax1.plot(range(1, len(Amean_second) + 1), Amean_second, label='Aukcja drugiej ceny')\n",
    "ax1.plot(range(1, len(Amean_all) + 1), Amean_all, label='Aukcja typu all-pay')\n",
    "ax1.title.set_text('a = 1/3')\n",
    "ax1.legend(loc = 'lower left')\n",
    "plt.xlabel('Ilość graczy')\n",
    "plt.ylabel('Średnia nPoA przy R powtórzeniach')\n",
    "ax1.set_ylim([0.5, 1.05])\n",
    "plt.legend()\n",
    "\n",
    "ax2 =plt.subplot(3, 1, 2)\n",
    "ax2.plot(range(1, len(Bmean_first) + 1), Bmean_first, label='Aukcja pierwszej ceny')\n",
    "ax2.plot(range(1, len(Bmean_second) + 1), Bmean_second, label='Aukcja drugiej ceny')\n",
    "ax2.plot(range(1, len(Bmean_all) + 1), Bmean_all, label='Aukcja typu all-pay')\n",
    "ax2.title.set_text('a = 2/3')\n",
    "ax2.legend(loc = 'lower left')\n",
    "plt.xlabel('Ilość graczy')\n",
    "plt.ylabel('Średnia nPoA przy R powtórzeniach')\n",
    "ax2.set_ylim([0.5, 1.05])\n",
    "plt.legend()\n",
    "\n",
    "ax3 = plt.subplot(3, 1, 3)\n",
    "ax3.plot(range(1, len(Cmean_first) + 1), Cmean_first, label='Aukcja pierwszej ceny')\n",
    "ax3.plot(range(1, len(Cmean_second) + 1), Cmean_second, label='Aukcja drugiej ceny')\n",
    "ax3.plot(range(1, len(Cmean_all) + 1), Cmean_all, label='Aukcja typu all-pay')\n",
    "ax3.title.set_text('a = 1')\n",
    "ax3.legend(loc = 'lower left')\n",
    "ax3.set_ylim([0.5, 1.05])\n",
    "plt.xlabel('Ilość graczy')\n",
    "plt.ylabel('Średnia nPoA przy R powtórzeniach')\n",
    "\n",
    "plt.tight_layout()\n",
    "\n",
    "plt.savefig('pictures/no_overbetting/comparison.png')\n",
    "plt.tight_layout()\n",
    "plt.show()"
   ]
  },
  {
   "cell_type": "code",
   "execution_count": null,
   "id": "b7bbd2da-1d69-4729-ad90-e539672438f4",
   "metadata": {
    "pycharm": {
     "name": "#%%\n"
    }
   },
   "outputs": [],
   "source": [
    "Amean_first, Amean_second, Amean_all = simulate_auctions(v, v, 10000, 100, 1)"
   ]
  },
  {
   "cell_type": "code",
   "execution_count": null,
   "id": "98b46d39-c782-4e54-8a56-7ce92e04e989",
   "metadata": {
    "pycharm": {
     "name": "#%%\n"
    }
   },
   "outputs": [],
   "source": [
    "Bmean_first, Bmean_second, Bmean_all = simulate_auctions(v, v, 10000, 100, 3/4)"
   ]
  },
  {
   "cell_type": "code",
   "execution_count": null,
   "id": "78ca4145-33ac-4370-be10-9f6b1e88a505",
   "metadata": {
    "pycharm": {
     "name": "#%%\n"
    }
   },
   "outputs": [],
   "source": [
    "Cmean_first, Cmean_second, Cmean_all = simulate_auctions(v, v, 10000, 100, 3/5)"
   ]
  },
  {
   "cell_type": "code",
   "execution_count": null,
   "id": "9ae2d357-f253-4026-8eba-b7245fc4c7f8",
   "metadata": {
    "pycharm": {
     "name": "#%%\n"
    }
   },
   "outputs": [],
   "source": [
    "plt.figure(figsize=(8.27, 11.69))\n",
    "\n",
    "ax1 = plt.subplot(3, 1, 1)\n",
    "ax1.plot(range(1, len(Amean_first) + 1), Amean_first, label='Aukcja pierwszej ceny')\n",
    "ax1.plot(range(1, len(Amean_second) + 1), Amean_second, label='Aukcja drugiej ceny')\n",
    "ax1.plot(range(1, len(Amean_all) + 1), Amean_all, label='Aukcja typu all-pay')\n",
    "ax1.title.set_text('a = 1/3')\n",
    "plt.xlabel('Ilość graczy')\n",
    "plt.ylabel('Średnia nPoA przy R powtórzeniach')\n",
    "ax1.set_ylim([0.5, 1.05])\n",
    "plt.legend()\n",
    "\n",
    "ax2 =plt.subplot(3, 1, 2)\n",
    "ax2.plot(range(1, len(Bmean_first) + 1), Bmean_first, label='Aukcja pierwszej ceny')\n",
    "ax2.plot(range(1, len(Bmean_second) + 1), Bmean_second, label='Aukcja drugiej ceny')\n",
    "ax2.plot(range(1, len(Bmean_all) + 1), Bmean_all, label='Aukcja typu all-pay')\n",
    "ax2.title.set_text('a = 1/4')\n",
    "#plt.legend(loc = 'lower right')\n",
    "plt.xlabel('Ilość graczy')\n",
    "plt.ylabel('Średnia nPoA przy R powtórzeniach')\n",
    "ax2.set_ylim([0.5, 1.05])\n",
    "plt.legend()\n",
    "\n",
    "ax3 = plt.subplot(3, 1, 3)\n",
    "ax3.plot(range(1, len(Cmean_first) + 1), Cmean_first, label='Aukcja pierwszej ceny')\n",
    "ax3.plot(range(1, len(Cmean_second) + 1), Cmean_second, label='Aukcja drugiej ceny')\n",
    "ax3.plot(range(1, len(Cmean_all) + 1), Cmean_all, label='Aukcja typu all-pay')\n",
    "ax3.title.set_text('a = 1/5')\n",
    "ax3.set_ylim([0.5, 1.05])\n",
    "plt.xlabel('Ilość graczy')\n",
    "plt.ylabel('Średnia nPoA przy R powtórzeniach')\n",
    "\n",
    "plt.tight_layout()\n",
    "\n",
    "plt.legend()\n",
    "plt.savefig('pictures/no_overbetting/comparison2.png')\n",
    "plt.tight_layout()\n",
    "plt.show()"
   ]
  },
  {
   "cell_type": "markdown",
   "id": "f9027915-1ce0-4fec-9f71-18894b69e977",
   "metadata": {
    "pycharm": {
     "name": "#%% md\n"
    }
   },
   "source": [
    "### Dla rozkładu U(0,1)"
   ]
  },
  {
   "cell_type": "code",
   "execution_count": null,
   "id": "5444c128-8908-42da-bd40-5ba172f1ca07",
   "metadata": {
    "pycharm": {
     "name": "#%%\n"
    }
   },
   "outputs": [],
   "source": [
    "mean_first, mean_second, mean_all = simulate_auctions_uniform(10000, 100)"
   ]
  },
  {
   "cell_type": "code",
   "execution_count": null,
   "id": "a0b0ea86-3bb7-4764-b9a4-8ee7b74aa0b9",
   "metadata": {
    "pycharm": {
     "name": "#%%\n"
    }
   },
   "outputs": [],
   "source": []
  },
  {
   "cell_type": "code",
   "execution_count": null,
   "id": "169f5e0e-6eee-4a43-b9d1-d3686a045a07",
   "metadata": {
    "pycharm": {
     "name": "#%%\n"
    }
   },
   "outputs": [],
   "source": []
  },
  {
   "cell_type": "code",
   "execution_count": null,
   "id": "784046d0-d845-4a81-a30a-624b011c403c",
   "metadata": {
    "pycharm": {
     "name": "#%%\n"
    }
   },
   "outputs": [],
   "source": []
  },
  {
   "cell_type": "code",
   "execution_count": null,
   "id": "09e38f9a-3af4-4ef3-99af-2c0c6ca14e98",
   "metadata": {
    "pycharm": {
     "name": "#%%\n"
    }
   },
   "outputs": [],
   "source": []
  },
  {
   "cell_type": "code",
   "execution_count": null,
   "id": "9544416e-723a-4811-965e-a2274facf655",
   "metadata": {
    "pycharm": {
     "name": "#%%\n"
    }
   },
   "outputs": [],
   "source": []
  },
  {
   "cell_type": "code",
   "execution_count": null,
   "id": "9a750c8d-e255-403c-9afd-bf2414f9ce46",
   "metadata": {
    "pycharm": {
     "name": "#%%\n"
    }
   },
   "outputs": [],
   "source": []
  },
  {
   "cell_type": "code",
   "execution_count": null,
   "id": "54a5bfef-21da-4753-b890-43f8ac366d8f",
   "metadata": {
    "pycharm": {
     "name": "#%%\n"
    }
   },
   "outputs": [],
   "source": [
    "plt.figure(figsize=(8.27, 6))\n",
    "plt.plot(range(1, len(mean_first) + 1), mean_first, label='Aukcja pierwszej ceny')\n",
    "plt.plot(range(1, len(mean_second) + 1), mean_second, label='Aukcja drugiej ceny')\n",
    "plt.plot(range(1, len(mean_all) + 1), mean_all, label='Aukcja typu all-pay')\n",
    "plt.xlabel('Ilość graczy')\n",
    "plt.ylabel('Średnia nPoA przy R powtórzeniach')\n",
    "plt.ylim(0.5, 1.05)\n",
    "plt.legend()\n",
    "plt.tight_layout()\n",
    "plt.savefig('pictures/uniform/comparisonUniform.png')\n",
    "\n",
    "plt.show()"
   ]
  }
 ],
 "metadata": {
  "kernelspec": {
   "display_name": "conda_pytorch_p310",
   "language": "python",
   "name": "conda_pytorch_p310"
  },
  "language_info": {
   "codemirror_mode": {
    "name": "ipython",
    "version": 3
   },
   "file_extension": ".py",
   "mimetype": "text/x-python",
   "name": "python",
   "nbconvert_exporter": "python",
   "pygments_lexer": "ipython3",
   "version": "3.10.14"
  }
 },
 "nbformat": 4,
 "nbformat_minor": 5
}
