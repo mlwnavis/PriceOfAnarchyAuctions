{
 "cells": [
  {
   "cell_type": "code",
   "execution_count": 52,
   "id": "abf3215e",
   "metadata": {
    "scrolled": true
   },
   "outputs": [],
   "source": [
    "import numpy as np\n",
    "import matplotlib.pyplot as plt\n",
    "import scipy.stats as stats\n",
    "import seaborn as sns\n",
    "import scipy.interpolate as interp\n",
    "import pandas as pd\n",
    "# ensure the notebook generate the same randomess\n",
    "np.random.seed(1)\n"
   ]
  },
  {
   "cell_type": "code",
   "execution_count": 53,
   "id": "d16dff7d-dd24-45e8-b08f-29fdbafe96b1",
   "metadata": {},
   "outputs": [],
   "source": [
    "def bet_Bayes_Nash(N, vi):\n",
    "    return (N-1)/N*vi"
   ]
  },
  {
   "cell_type": "code",
   "execution_count": 54,
   "id": "cf1db85a-43ae-4369-a7d6-216e26fdfc40",
   "metadata": {},
   "outputs": [],
   "source": [
    "def bet_random(v):\n",
    "    return np.random.uniform(0,v)"
   ]
  },
  {
   "cell_type": "code",
   "execution_count": 16,
   "id": "a638236f-6937-48c3-be98-56386f5a4a0c",
   "metadata": {},
   "outputs": [],
   "source": [
    "N = 2\n",
    "R = [10**3,10**5, 10**7]\n"
   ]
  },
  {
   "cell_type": "markdown",
   "id": "9335cc90-abf0-41c5-b300-68acfe43fabd",
   "metadata": {},
   "source": [
    "### Gdy wszyscy gracze przyjmują jako strategię równowagę Bayesa-Nasha"
   ]
  },
  {
   "cell_type": "code",
   "execution_count": 17,
   "id": "d76b42b1-a973-4ed2-9ce5-ad6e0481445f",
   "metadata": {},
   "outputs": [
    {
     "name": "stdout",
     "output_type": "stream",
     "text": [
      "[1000, 100000, 10000000]\n",
      "[1.0, 1.0, 1.0]\n"
     ]
    },
    {
     "data": {
      "text/html": [
       "<div>\n",
       "<style scoped>\n",
       "    .dataframe tbody tr th:only-of-type {\n",
       "        vertical-align: middle;\n",
       "    }\n",
       "\n",
       "    .dataframe tbody tr th {\n",
       "        vertical-align: top;\n",
       "    }\n",
       "\n",
       "    .dataframe thead th {\n",
       "        text-align: right;\n",
       "    }\n",
       "</style>\n",
       "<table border=\"1\" class=\"dataframe\">\n",
       "  <thead>\n",
       "    <tr style=\"text-align: right;\">\n",
       "      <th></th>\n",
       "      <th>R</th>\n",
       "      <th>PoA</th>\n",
       "    </tr>\n",
       "  </thead>\n",
       "  <tbody>\n",
       "    <tr>\n",
       "      <th>0</th>\n",
       "      <td>1000</td>\n",
       "      <td>1.0</td>\n",
       "    </tr>\n",
       "    <tr>\n",
       "      <th>1</th>\n",
       "      <td>100000</td>\n",
       "      <td>1.0</td>\n",
       "    </tr>\n",
       "    <tr>\n",
       "      <th>2</th>\n",
       "      <td>10000000</td>\n",
       "      <td>1.0</td>\n",
       "    </tr>\n",
       "  </tbody>\n",
       "</table>\n",
       "</div>"
      ],
      "text/plain": [
       "          R  PoA\n",
       "0      1000  1.0\n",
       "1    100000  1.0\n",
       "2  10000000  1.0"
      ]
     },
     "execution_count": 17,
     "metadata": {},
     "output_type": "execute_result"
    }
   ],
   "source": [
    "PoA = []\n",
    "for r in R: \n",
    "    v = np.random.uniform(0,1,(N,r))\n",
    "    b =  bet_Bayes_Nash(N,v)\n",
    "\n",
    "    x=np.argmax(b, axis=0)\n",
    "    Welf = v[x, np.arange(r)]\n",
    "    Opt =v.max(axis = 0)\n",
    "    PoA.append(np.mean(Welf/Opt))\n",
    "print(R)\n",
    "print(PoA)\n",
    "pd.DataFrame({\"R\":R, 'PoA':PoA})"
   ]
  },
  {
   "cell_type": "markdown",
   "id": "7b27077a-eb05-4b08-83b8-84ed0e1381e1",
   "metadata": {},
   "source": [
    "### Gdy oferty są losowe"
   ]
  },
  {
   "cell_type": "code",
   "execution_count": 127,
   "id": "3b8f113f-6341-401b-aeb4-a42b4f98a721",
   "metadata": {},
   "outputs": [],
   "source": [
    "N = 2\n",
    "R = [10, 10**3,10**5, 10**7]"
   ]
  },
  {
   "cell_type": "code",
   "execution_count": 128,
   "id": "745be4af-b43c-45ce-808a-742ac3dc1232",
   "metadata": {},
   "outputs": [
    {
     "data": {
      "text/html": [
       "<div>\n",
       "<style scoped>\n",
       "    .dataframe tbody tr th:only-of-type {\n",
       "        vertical-align: middle;\n",
       "    }\n",
       "\n",
       "    .dataframe tbody tr th {\n",
       "        vertical-align: top;\n",
       "    }\n",
       "\n",
       "    .dataframe thead th {\n",
       "        text-align: right;\n",
       "    }\n",
       "</style>\n",
       "<table border=\"1\" class=\"dataframe\">\n",
       "  <thead>\n",
       "    <tr style=\"text-align: right;\">\n",
       "      <th></th>\n",
       "      <th>R</th>\n",
       "      <th>PoA</th>\n",
       "    </tr>\n",
       "  </thead>\n",
       "  <tbody>\n",
       "    <tr>\n",
       "      <th>0</th>\n",
       "      <td>10</td>\n",
       "      <td>0.949674</td>\n",
       "    </tr>\n",
       "    <tr>\n",
       "      <th>1</th>\n",
       "      <td>1000</td>\n",
       "      <td>0.922106</td>\n",
       "    </tr>\n",
       "    <tr>\n",
       "      <th>2</th>\n",
       "      <td>100000</td>\n",
       "      <td>0.917843</td>\n",
       "    </tr>\n",
       "    <tr>\n",
       "      <th>3</th>\n",
       "      <td>10000000</td>\n",
       "      <td>0.916749</td>\n",
       "    </tr>\n",
       "  </tbody>\n",
       "</table>\n",
       "</div>"
      ],
      "text/plain": [
       "          R       PoA\n",
       "0        10  0.949674\n",
       "1      1000  0.922106\n",
       "2    100000  0.917843\n",
       "3  10000000  0.916749"
      ]
     },
     "execution_count": 128,
     "metadata": {},
     "output_type": "execute_result"
    }
   ],
   "source": [
    "PoA = []\n",
    "for r in R: \n",
    "    v = np.random.uniform(0,1,(N,r))\n",
    "    b =  bet_random(v)\n",
    "\n",
    "    x=np.argmax(b, axis=0)\n",
    "    Welf = v[x, np.arange(r)]\n",
    "    Opt =v.max(axis = 0)\n",
    "    PoA.append(np.mean(Welf/Opt))\n",
    "\n",
    "pd.DataFrame({\"R\":R, 'PoA':PoA})"
   ]
  },
  {
   "cell_type": "code",
   "execution_count": 129,
   "id": "77d41173-dde6-4eec-8de9-a240914fb5eb",
   "metadata": {},
   "outputs": [],
   "source": [
    "n = 100\n",
    "r = 50"
   ]
  },
  {
   "cell_type": "code",
   "execution_count": 130,
   "id": "308dfe66-79e5-44a2-9fc8-8bc8ba5491d9",
   "metadata": {},
   "outputs": [],
   "source": [
    "PoA_mean = []\n",
    "PoA_min = []\n",
    "PoA_max = []\n",
    "\n",
    "for N in range(1,n): \n",
    "    v = np.random.uniform(0,1,(N,r))\n",
    "    b =  bet_random(v)\n",
    "    winner=np.argmax(b, axis=0)\n",
    "    Welf = v[winner, np.arange(r)]\n",
    "    Opt =v.max(axis = 0)\n",
    "    PoA = Welf/Opt\n",
    "    PoA_mean.append(np.mean(PoA))\n",
    "    PoA_min.append(min(PoA))\n",
    "    PoA_max.append(max(PoA))\n",
    "\n"
   ]
  },
  {
   "cell_type": "code",
   "execution_count": 131,
   "id": "5d1b7154-12e6-48c5-856f-c136f3b9187d",
   "metadata": {},
   "outputs": [
    {
     "data": {
      "text/plain": [
       "<matplotlib.legend.Legend at 0x19c81a66590>"
      ]
     },
     "execution_count": 131,
     "metadata": {},
     "output_type": "execute_result"
    },
    {
     "data": {
      "image/png": "[encoded data removed]",
      "text/plain": [
       "<Figure size 640x480 with 1 Axes>"
      ]
     },
     "metadata": {},
     "output_type": "display_data"
    }
   ],
   "source": [
    "fig, ax = plt.subplots()\n",
    "x = list(range(1,n))\n",
    "ax.plot(x,PoA_mean, label = 'mean')\n",
    "ax.plot(x,PoA_min, label = 'min')\n",
    "ax.plot(x,PoA_max, label = 'max')\n",
    "ax.legend()"
   ]
  }
 ],
 "metadata": {
  "kernelspec": {
   "display_name": "Python 3 (ipykernel)",
   "language": "python",
   "name": "python3"
  },
  "language_info": {
   "codemirror_mode": {
    "name": "ipython",
    "version": 3
   },
   "file_extension": ".py",
   "mimetype": "text/x-python",
   "name": "python",
   "nbconvert_exporter": "python",
   "pygments_lexer": "ipython3",
   "version": "3.10.13"
  }
 },
 "nbformat": 4,
 "nbformat_minor": 5
}
