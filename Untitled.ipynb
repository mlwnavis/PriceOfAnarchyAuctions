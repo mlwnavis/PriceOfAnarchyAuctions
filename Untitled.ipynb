{
 "cells": [
  {
   "cell_type": "code",
   "execution_count": 4,
   "id": "4ff6cf65-4353-4b46-96f1-718a22f99f92",
   "metadata": {},
   "outputs": [],
   "source": [
    "import numpy as np\n",
    "import matplotlib.pyplot as plt\n",
    "import scipy.stats as stats\n",
    "import seaborn as sns\n",
    "import scipy.interpolate as interp\n"
   ]
  },
  {
   "cell_type": "code",
   "execution_count": null,
   "id": "048ae007-248e-4200-95bb-6cbaec7a890a",
   "metadata": {},
   "outputs": [],
   "source": [
    "v_1"
   ]
  },
  {
   "cell_type": "code",
   "execution_count": null,
   "id": "ddc5705c-bb49-4327-b7a8-0fba1abb7266",
   "metadata": {},
   "outputs": [],
   "source": []
  },
  {
   "cell_type": "code",
   "execution_count": null,
   "id": "c9088f99-8414-407a-aedc-46b9556463d8",
   "metadata": {},
   "outputs": [],
   "source": []
  },
  {
   "cell_type": "code",
   "execution_count": null,
   "id": "e7f4ce98-95a7-4c2b-b90d-73d38339cfca",
   "metadata": {},
   "outputs": [],
   "source": []
  },
  {
   "cell_type": "code",
   "execution_count": null,
   "id": "2c951cf8-e7a6-480b-9bfa-0a6b6a542619",
   "metadata": {},
   "outputs": [],
   "source": []
  }
 ],
 "metadata": {
  "kernelspec": {
   "display_name": "Python 3 (ipykernel)",
   "language": "python",
   "name": "python3"
  },
  "language_info": {
   "codemirror_mode": {
    "name": "ipython",
    "version": 3
   },
   "file_extension": ".py",
   "mimetype": "text/x-python",
   "name": "python",
   "nbconvert_exporter": "python",
   "pygments_lexer": "ipython3",
   "version": "3.10.13"
  }
 },
 "nbformat": 4,
 "nbformat_minor": 5
}
