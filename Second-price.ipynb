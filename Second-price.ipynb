{
 "cells": [
  {
   "cell_type": "code",
   "execution_count": 1,
   "id": "95d0f809-0735-4d89-bac1-742f43fb82ec",
   "metadata": {},
   "outputs": [],
   "source": [
    "import numpy as np\n",
    "import matplotlib.pyplot as plt\n",
    "import scipy.stats as stats\n",
    "import seaborn as sns\n",
    "import scipy.interpolate as interp\n",
    "import pandas as pd\n",
    "from helpers import *\n",
    "# ensure the notebook generate the same randomess\n",
    "np.random.seed(1)"
   ]
  },
  {
   "cell_type": "code",
   "execution_count": 28,
   "id": "54353cf0-ccd4-4730-92f5-8ecf1567847a",
   "metadata": {},
   "outputs": [],
   "source": [
    "N = 5\n",
    "R = [10]"
   ]
  },
  {
   "cell_type": "code",
   "execution_count": 29,
   "id": "0d2de0f8-b6f3-4bf0-8471-9099fb9b7ee5",
   "metadata": {},
   "outputs": [
    {
     "data": {
      "text/html": [
       "<div>\n",
       "<style scoped>\n",
       "    .dataframe tbody tr th:only-of-type {\n",
       "        vertical-align: middle;\n",
       "    }\n",
       "\n",
       "    .dataframe tbody tr th {\n",
       "        vertical-align: top;\n",
       "    }\n",
       "\n",
       "    .dataframe thead th {\n",
       "        text-align: right;\n",
       "    }\n",
       "</style>\n",
       "<table border=\"1\" class=\"dataframe\">\n",
       "  <thead>\n",
       "    <tr style=\"text-align: right;\">\n",
       "      <th></th>\n",
       "      <th>R</th>\n",
       "      <th>PoA</th>\n",
       "    </tr>\n",
       "  </thead>\n",
       "  <tbody>\n",
       "    <tr>\n",
       "      <th>0</th>\n",
       "      <td>10</td>\n",
       "      <td>0.97993</td>\n",
       "    </tr>\n",
       "  </tbody>\n",
       "</table>\n",
       "</div>"
      ],
      "text/plain": [
       "    R      PoA\n",
       "0  10  0.97993"
      ]
     },
     "execution_count": 29,
     "metadata": {},
     "output_type": "execute_result"
    }
   ],
   "source": [
    "PoA = []\n",
    "for r in R: \n",
    "    v = np.random.uniform(0,1,(r,N))\n",
    "    alpha = np.random.uniform(0,1,(r,N))\n",
    "    sorted_alpha = np.sort(alpha, axis=1)[:, ::-1]\n",
    "    b =  bet_random(v)\n",
    "    sorted_b = np.sort(b, axis=1)[:, ::-1]\n",
    "    winners_index=np.apply_along_axis(index_of_sorted_elements, axis = 1, arr = b)\n",
    "    v_in_order = np.take_along_axis(v, winners_index, axis=1)\n",
    "    Welf = np.sum(alpha * v_in_order, axis = 1)\n",
    "    sorted_v = np.sort(v, axis=1)[:, ::-1]\n",
    "    Opt = np.sum(alpha * sorted_v, axis = 1)\n",
    "    PoA.append(np.mean(Welf/Opt))\n",
    "\n",
    "pd.DataFrame({\"R\":R, 'PoA':PoA})"
   ]
  },
  {
   "cell_type": "code",
   "execution_count": null,
   "id": "f779f9d8-2137-47d0-8ee6-1df4a8caed81",
   "metadata": {},
   "outputs": [],
   "source": []
  },
  {
   "cell_type": "code",
   "execution_count": null,
   "id": "947a88ef-49b0-4df4-ac07-abc4f89ceae7",
   "metadata": {},
   "outputs": [],
   "source": []
  },
  {
   "cell_type": "code",
   "execution_count": null,
   "id": "ce102f88-1b7a-4a81-ad5b-9519d738197a",
   "metadata": {},
   "outputs": [],
   "source": []
  }
 ],
 "metadata": {
  "kernelspec": {
   "display_name": "Python 3 (ipykernel)",
   "language": "python",
   "name": "python3"
  },
  "language_info": {
   "codemirror_mode": {
    "name": "ipython",
    "version": 3
   },
   "file_extension": ".py",
   "mimetype": "text/x-python",
   "name": "python",
   "nbconvert_exporter": "python",
   "pygments_lexer": "ipython3",
   "version": "3.10.13"
  }
 },
 "nbformat": 4,
 "nbformat_minor": 5
}
