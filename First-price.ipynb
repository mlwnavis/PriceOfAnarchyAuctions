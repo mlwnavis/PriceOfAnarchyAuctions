{
 "cells": [
  {
   "cell_type": "code",
   "execution_count": 1,
   "id": "abf3215e",
   "metadata": {
    "scrolled": true
   },
   "outputs": [],
   "source": [
    "import numpy as np\n",
    "import matplotlib.pyplot as plt\n",
    "import scipy.stats as stats\n",
    "import seaborn as sns\n",
    "import scipy.interpolate as interp\n",
    "import pandas as pd\n",
    "from helpers import *\n",
    "# ensure the notebook generate the same randomess\n",
    "np.random.seed(1)\n"
   ]
  },
  {
   "cell_type": "code",
   "execution_count": 2,
   "id": "a638236f-6937-48c3-be98-56386f5a4a0c",
   "metadata": {},
   "outputs": [],
   "source": [
    "N = 2\n",
    "R = [10**3,10**5, 10**7]\n"
   ]
  },
  {
   "cell_type": "markdown",
   "id": "9335cc90-abf0-41c5-b300-68acfe43fabd",
   "metadata": {},
   "source": [
    "### Gdy wszyscy gracze przyjmują jako strategię równowagę Bayesa-Nasha"
   ]
  },
  {
   "cell_type": "code",
   "execution_count": 3,
   "id": "d76b42b1-a973-4ed2-9ce5-ad6e0481445f",
   "metadata": {},
   "outputs": [
    {
     "name": "stdout",
     "output_type": "stream",
     "text": [
      "[1000, 100000, 10000000]\n",
      "[1.0, 1.0, 1.0]\n"
     ]
    },
    {
     "data": {
      "text/html": [
       "<div>\n",
       "<style scoped>\n",
       "    .dataframe tbody tr th:only-of-type {\n",
       "        vertical-align: middle;\n",
       "    }\n",
       "\n",
       "    .dataframe tbody tr th {\n",
       "        vertical-align: top;\n",
       "    }\n",
       "\n",
       "    .dataframe thead th {\n",
       "        text-align: right;\n",
       "    }\n",
       "</style>\n",
       "<table border=\"1\" class=\"dataframe\">\n",
       "  <thead>\n",
       "    <tr style=\"text-align: right;\">\n",
       "      <th></th>\n",
       "      <th>R</th>\n",
       "      <th>PoA</th>\n",
       "    </tr>\n",
       "  </thead>\n",
       "  <tbody>\n",
       "    <tr>\n",
       "      <th>0</th>\n",
       "      <td>1000</td>\n",
       "      <td>1.0</td>\n",
       "    </tr>\n",
       "    <tr>\n",
       "      <th>1</th>\n",
       "      <td>100000</td>\n",
       "      <td>1.0</td>\n",
       "    </tr>\n",
       "    <tr>\n",
       "      <th>2</th>\n",
       "      <td>10000000</td>\n",
       "      <td>1.0</td>\n",
       "    </tr>\n",
       "  </tbody>\n",
       "</table>\n",
       "</div>"
      ],
      "text/plain": [
       "          R  PoA\n",
       "0      1000  1.0\n",
       "1    100000  1.0\n",
       "2  10000000  1.0"
      ]
     },
     "execution_count": 3,
     "metadata": {},
     "output_type": "execute_result"
    }
   ],
   "source": [
    "PoA = []\n",
    "for r in R: \n",
    "    v = np.random.uniform(0,1,(r,N))\n",
    "    b =  bet_Bayes_Nash(N, v)\n",
    "\n",
    "    x=np.argmax(b, axis=1)\n",
    "    Welf = v[np.arange(r), x]\n",
    "    Opt =v.max(axis = 1)\n",
    "    PoA.append(np.mean(Welf/Opt))\n",
    "print(R)\n",
    "print(PoA)\n",
    "pd.DataFrame({\"R\":R, 'PoA':PoA})"
   ]
  },
  {
   "cell_type": "markdown",
   "id": "7b27077a-eb05-4b08-83b8-84ed0e1381e1",
   "metadata": {},
   "source": [
    "### Gdy oferty są losowe z rozkładu U(0,1)"
   ]
  },
  {
   "cell_type": "code",
   "execution_count": 4,
   "id": "3b8f113f-6341-401b-aeb4-a42b4f98a721",
   "metadata": {},
   "outputs": [],
   "source": [
    "N = 2\n",
    "R = [10, 10**3,10**5, 10**7]"
   ]
  },
  {
   "cell_type": "code",
   "execution_count": 5,
   "id": "745be4af-b43c-45ce-808a-742ac3dc1232",
   "metadata": {
    "scrolled": true
   },
   "outputs": [
    {
     "data": {
      "text/html": [
       "<div>\n",
       "<style scoped>\n",
       "    .dataframe tbody tr th:only-of-type {\n",
       "        vertical-align: middle;\n",
       "    }\n",
       "\n",
       "    .dataframe tbody tr th {\n",
       "        vertical-align: top;\n",
       "    }\n",
       "\n",
       "    .dataframe thead th {\n",
       "        text-align: right;\n",
       "    }\n",
       "</style>\n",
       "<table border=\"1\" class=\"dataframe\">\n",
       "  <thead>\n",
       "    <tr style=\"text-align: right;\">\n",
       "      <th></th>\n",
       "      <th>R</th>\n",
       "      <th>PoA</th>\n",
       "    </tr>\n",
       "  </thead>\n",
       "  <tbody>\n",
       "    <tr>\n",
       "      <th>0</th>\n",
       "      <td>10</td>\n",
       "      <td>0.957290</td>\n",
       "    </tr>\n",
       "    <tr>\n",
       "      <th>1</th>\n",
       "      <td>1000</td>\n",
       "      <td>0.909311</td>\n",
       "    </tr>\n",
       "    <tr>\n",
       "      <th>2</th>\n",
       "      <td>100000</td>\n",
       "      <td>0.917083</td>\n",
       "    </tr>\n",
       "    <tr>\n",
       "      <th>3</th>\n",
       "      <td>10000000</td>\n",
       "      <td>0.916711</td>\n",
       "    </tr>\n",
       "  </tbody>\n",
       "</table>\n",
       "</div>"
      ],
      "text/plain": [
       "          R       PoA\n",
       "0        10  0.957290\n",
       "1      1000  0.909311\n",
       "2    100000  0.917083\n",
       "3  10000000  0.916711"
      ]
     },
     "execution_count": 5,
     "metadata": {},
     "output_type": "execute_result"
    }
   ],
   "source": [
    "PoA = []\n",
    "for r in R: \n",
    "    v = np.random.uniform(0,1,(r, N))\n",
    "    b =  bet_random(v)\n",
    "\n",
    "    x=np.argmax(b, axis=1)\n",
    "    Welf = v[np.arange(r), x]\n",
    "    Opt =v.max(axis = 1)\n",
    "    PoA.append(np.mean(Welf/Opt))\n",
    "\n",
    "pd.DataFrame({\"R\":R, 'PoA':PoA})"
   ]
  },
  {
   "cell_type": "markdown",
   "id": "e65f080a-e839-4732-a431-cb48b367db94",
   "metadata": {},
   "source": [
    "## Gdy wyceny są różne"
   ]
  },
  {
   "cell_type": "code",
   "execution_count": 7,
   "id": "9a973438-655b-4fc5-9a2b-4c4d0fc3c0d5",
   "metadata": {},
   "outputs": [],
   "source": [
    "N = 2\n",
    "R = [10, 10**3, 10**5, 10**7]"
   ]
  },
  {
   "cell_type": "code",
   "execution_count": 8,
   "id": "25226bd2-cacc-4ea2-ac36-d5c297e91302",
   "metadata": {},
   "outputs": [
    {
     "name": "stdout",
     "output_type": "stream",
     "text": [
      "[10, 1000, 100000, 10000000]\n",
      "[1.0, 0.9827922882165135, 0.9845029153929848, 0.9838927076000386]\n"
     ]
    },
    {
     "data": {
      "text/html": [
       "<div>\n",
       "<style scoped>\n",
       "    .dataframe tbody tr th:only-of-type {\n",
       "        vertical-align: middle;\n",
       "    }\n",
       "\n",
       "    .dataframe tbody tr th {\n",
       "        vertical-align: top;\n",
       "    }\n",
       "\n",
       "    .dataframe thead th {\n",
       "        text-align: right;\n",
       "    }\n",
       "</style>\n",
       "<table border=\"1\" class=\"dataframe\">\n",
       "  <thead>\n",
       "    <tr style=\"text-align: right;\">\n",
       "      <th></th>\n",
       "      <th>R</th>\n",
       "      <th>PoA</th>\n",
       "    </tr>\n",
       "  </thead>\n",
       "  <tbody>\n",
       "    <tr>\n",
       "      <th>0</th>\n",
       "      <td>10</td>\n",
       "      <td>1.000000</td>\n",
       "    </tr>\n",
       "    <tr>\n",
       "      <th>1</th>\n",
       "      <td>1000</td>\n",
       "      <td>0.982792</td>\n",
       "    </tr>\n",
       "    <tr>\n",
       "      <th>2</th>\n",
       "      <td>100000</td>\n",
       "      <td>0.984503</td>\n",
       "    </tr>\n",
       "    <tr>\n",
       "      <th>3</th>\n",
       "      <td>10000000</td>\n",
       "      <td>0.983893</td>\n",
       "    </tr>\n",
       "  </tbody>\n",
       "</table>\n",
       "</div>"
      ],
      "text/plain": [
       "          R       PoA\n",
       "0        10  1.000000\n",
       "1      1000  0.982792\n",
       "2    100000  0.984503\n",
       "3  10000000  0.983893"
      ]
     },
     "execution_count": 8,
     "metadata": {},
     "output_type": "execute_result"
    }
   ],
   "source": [
    "PoA = []\n",
    "for r in R: \n",
    "    v1 = np.random.uniform(0, 1, (1, r))\n",
    "    v2 = np.random.uniform(0, 2, (1, r))\n",
    "    \n",
    "    v = np.vstack((v1, v2))\n",
    "    b1 = bet_uneven_Bayes_Nash(v1, 1)\n",
    "    b2 = bet_uneven_Bayes_Nash(v2, 2)\n",
    "    b =  np.vstack((b1, b2))\n",
    "    x=np.argmax(b, axis=0)\n",
    "    Welf = v[x, np.arange(r)]\n",
    "    Opt =v.max(axis = 0)\n",
    "    PoA.append(np.mean(Welf/Opt))\n",
    "print(R)\n",
    "print(PoA)\n",
    "pd.DataFrame({\"R\":R, 'PoA':PoA})"
   ]
  },
  {
   "cell_type": "code",
   "execution_count": 9,
   "id": "c21650b8-b798-43cc-af7d-7099e9e7ce4a",
   "metadata": {},
   "outputs": [],
   "source": [
    "N = 2\n",
    "R = [10, 10**3,10**5, 10**7]"
   ]
  },
  {
   "cell_type": "code",
   "execution_count": 10,
   "id": "e3525102-9071-4144-8868-25a5260eb04b",
   "metadata": {},
   "outputs": [
    {
     "data": {
      "text/html": [
       "<div>\n",
       "<style scoped>\n",
       "    .dataframe tbody tr th:only-of-type {\n",
       "        vertical-align: middle;\n",
       "    }\n",
       "\n",
       "    .dataframe tbody tr th {\n",
       "        vertical-align: top;\n",
       "    }\n",
       "\n",
       "    .dataframe thead th {\n",
       "        text-align: right;\n",
       "    }\n",
       "</style>\n",
       "<table border=\"1\" class=\"dataframe\">\n",
       "  <thead>\n",
       "    <tr style=\"text-align: right;\">\n",
       "      <th></th>\n",
       "      <th>R</th>\n",
       "      <th>PoA</th>\n",
       "    </tr>\n",
       "  </thead>\n",
       "  <tbody>\n",
       "    <tr>\n",
       "      <th>0</th>\n",
       "      <td>10</td>\n",
       "      <td>0.887310</td>\n",
       "    </tr>\n",
       "    <tr>\n",
       "      <th>1</th>\n",
       "      <td>1000</td>\n",
       "      <td>0.918114</td>\n",
       "    </tr>\n",
       "    <tr>\n",
       "      <th>2</th>\n",
       "      <td>100000</td>\n",
       "      <td>0.916429</td>\n",
       "    </tr>\n",
       "    <tr>\n",
       "      <th>3</th>\n",
       "      <td>10000000</td>\n",
       "      <td>0.916706</td>\n",
       "    </tr>\n",
       "  </tbody>\n",
       "</table>\n",
       "</div>"
      ],
      "text/plain": [
       "          R       PoA\n",
       "0        10  0.887310\n",
       "1      1000  0.918114\n",
       "2    100000  0.916429\n",
       "3  10000000  0.916706"
      ]
     },
     "execution_count": 10,
     "metadata": {},
     "output_type": "execute_result"
    }
   ],
   "source": [
    "PoA = []\n",
    "for r in R: \n",
    "    v = np.random.uniform(0,1,(N,r))\n",
    "    b =  bet_random(v)\n",
    "\n",
    "    x=np.argmax(b, axis=0)\n",
    "    Welf = v[x, np.arange(r)]\n",
    "    Opt =v.max(axis = 0)\n",
    "    PoA.append(np.mean(Welf/Opt))\n",
    "\n",
    "pd.DataFrame({\"R\":R, 'PoA':PoA})"
   ]
  },
  {
   "cell_type": "markdown",
   "id": "9f287fb5-76ef-4b0a-9d48-73842d79c114",
   "metadata": {},
   "source": [
    "## Rysowanie"
   ]
  },
  {
   "cell_type": "markdown",
   "id": "1a868c78-da44-4e3f-b950-136e4e61085d",
   "metadata": {},
   "source": [
    "### Oferty z U(0,1)"
   ]
  },
  {
   "cell_type": "code",
   "execution_count": 12,
   "id": "77d41173-dde6-4eec-8de9-a240914fb5eb",
   "metadata": {},
   "outputs": [],
   "source": [
    "n = 100\n",
    "r = 10000"
   ]
  },
  {
   "cell_type": "code",
   "execution_count": 13,
   "id": "789ad9a5-0b4c-4044-8f64-117ccde6719c",
   "metadata": {},
   "outputs": [],
   "source": [
    "PoA_mean = []\n",
    "PoA_min = []\n",
    "\n",
    "for N in range(2,n): \n",
    "    v = np.random.uniform(0,1,(N,r))\n",
    "    b = bet_random(v)\n",
    "    winner=np.argmax(b, axis=0)\n",
    "    Welf = v[winner, np.arange(r)]\n",
    "    Opt =v.max(axis = 0)\n",
    "    PoA = Welf/Opt\n",
    "    PoA_mean.append(np.mean(PoA))\n",
    "    PoA_min.append(min(PoA))"
   ]
  },
  {
   "cell_type": "code",
   "execution_count": 14,
   "id": "5d1b7154-12e6-48c5-856f-c136f3b9187d",
   "metadata": {},
   "outputs": [
    {
     "data": {
      "image/png": "[encoded data removed]",
      "text/plain": [
       "<Figure size 640x480 with 1 Axes>"
      ]
     },
     "metadata": {},
     "output_type": "display_data"
    }
   ],
   "source": [
    "fig, ax = plt.subplots()\n",
    "x = list(range(2,n))\n",
    "ax.plot(x,PoA_mean, label = 'średnia')\n",
    "ax.plot(x,PoA_min, label = 'minimum')\n",
    "plt.xlabel(\"Liczba graczy\")\n",
    "plt.ylabel(\"nPoA przy 1000 powtórzeń\")\n",
    "plt.ylim(0, 1.05)\n",
    "ax.legend()\n",
    "plt.savefig('pictures/uniform/uniform_first_price.png')"
   ]
  },
  {
   "cell_type": "markdown",
   "id": "7823777f-b2f3-4886-b04d-78618217d524",
   "metadata": {},
   "source": [
    "### Gdy oferty są losowe z rozkładu Normalnego bez overbettingu"
   ]
  },
  {
   "cell_type": "code",
   "execution_count": 17,
   "id": "83524122-17f3-466b-9625-73207b46c1cd",
   "metadata": {},
   "outputs": [],
   "source": [
    "PoA_mean = []\n",
    "PoA_min = []\n",
    "for N in range(2,n): \n",
    "    v = np.random.uniform(0,1,(N,r))\n",
    "    b_mean = bet_Bayes_Nash(N, v)\n",
    "    b_variance = produce_variance(b_mean, v)\n",
    "    b = negative_to_zero(bet_normal(b_mean,b_variance), 1)\n",
    "    winner=np.argmax(b, axis=0)\n",
    "    Welf = v[winner, np.arange(r)]\n",
    "    Opt =v.max(axis = 0)\n",
    "    PoA = Welf/Opt\n",
    "    PoA_mean.append(np.mean(PoA))\n",
    "    PoA_min.append(min(PoA))"
   ]
  },
  {
   "cell_type": "code",
   "execution_count": 18,
   "id": "f778df6c-b0fc-436b-8745-a3b9745a4f39",
   "metadata": {
    "scrolled": true
   },
   "outputs": [
    {
     "data": {
      "image/png": "[encoded data removed]",
      "text/plain": [
       "<Figure size 640x480 with 1 Axes>"
      ]
     },
     "metadata": {},
     "output_type": "display_data"
    }
   ],
   "source": [
    "fig, ax = plt.subplots()\n",
    "x = list(range(2,n))\n",
    "ax.plot(x,PoA_mean, label = 'średnia')\n",
    "ax.plot(x,PoA_min, label = 'minimum')\n",
    "plt.xlabel(\"Liczba graczy\")\n",
    "plt.ylabel(\"nPoA przy 1000 powtórzeń\")\n",
    "ax.legend(loc='lower right')\n",
    "plt.ylim(0, 1.05)\n",
    "plt.savefig('pictures/no_overbetting/normal_first_price.png')"
   ]
  },
  {
   "cell_type": "markdown",
   "id": "2fc7a395-e6db-43cd-a2b9-bf60b9579530",
   "metadata": {},
   "source": [
    "### Gdy oferty są losowe z rozkładu Normalnego z overbettingiem"
   ]
  },
  {
   "cell_type": "code",
   "execution_count": null,
   "id": "bffcdae8-e6b5-4bc8-9149-765122fee62d",
   "metadata": {},
   "outputs": [],
   "source": [
    "PoA_mean = []\n",
    "PoA_min = []\n",
    "for N in range(2,n): \n",
    "    v = np.random.uniform(0,1,(N,r))\n",
    "    b_mean = bet_Bayes_Nash(N, v)\n",
    "    b_variance = produce_variance(b_mean, 1)\n",
    "    b = negative_to_zero(bet_normal(b_mean,b_variance), 1)\n",
    "    winner=np.argmax(b, axis=0)\n",
    "    Welf = v[winner, np.arange(r)]\n",
    "    Opt =v.max(axis = 0)\n",
    "    PoA = Welf/Opt\n",
    "    PoA_mean.append(np.mean(PoA))\n",
    "    PoA_min.append(min(PoA))"
   ]
  },
  {
   "cell_type": "code",
   "execution_count": null,
   "id": "5012a08e-8e86-4051-b531-7011fe3ce0e9",
   "metadata": {},
   "outputs": [],
   "source": [
    "fig, ax = plt.subplots()\n",
    "x = list(range(2,n))\n",
    "ax.plot(x,PoA_mean, label = 'średnia')\n",
    "ax.plot(x,PoA_min, label = 'minimum')\n",
    "plt.xlabel(\"Liczba graczy\")\n",
    "plt.ylabel(\"nPoA przy 1000 powtórzeń\")\n",
    "ax.legend(loc='lower right')\n",
    "plt.ylim(0, 1.05)\n",
    "plt.savefig('pictures/overbetting/normal_first_price.png')"
   ]
  },
  {
   "cell_type": "markdown",
   "id": "47b3f0f3-65ca-4a56-8e50-f42e1f66fad0",
   "metadata": {},
   "source": [
    "### Wpływ zmiany ilości powtórzeń"
   ]
  },
  {
   "cell_type": "code",
   "execution_count": 19,
   "id": "d63153c9-2d78-48df-814d-fc0773766b2c",
   "metadata": {},
   "outputs": [],
   "source": [
    "n = 100\n",
    "R = [100, 1000, 100000]"
   ]
  },
  {
   "cell_type": "code",
   "execution_count": 20,
   "id": "c223d7ab-7ec9-4a5e-8a10-aa69135a8826",
   "metadata": {},
   "outputs": [],
   "source": [
    "PoA_mean_uni = []\n",
    "PoA_min_uni = []\n",
    "for r in R:\n",
    "    mean_tmp = []\n",
    "    min_tmp = []\n",
    "    for N in range(2,n): \n",
    "        v = np.random.uniform(0,1,(N,r))\n",
    "        b = bet_random(v)\n",
    "        winner=np.argmax(b, axis=0)\n",
    "        Welf = v[winner, np.arange(r)]\n",
    "        Opt =v.max(axis = 0)\n",
    "        PoA = Welf/Opt\n",
    "        mean_tmp.append(np.mean(PoA))\n",
    "        min_tmp.append(min(PoA))\n",
    "    PoA_mean_uni.append(mean_tmp)\n",
    "    PoA_min_uni.append(min_tmp)"
   ]
  },
  {
   "cell_type": "code",
   "execution_count": 21,
   "id": "050e3f40-1de3-4f8c-80eb-c00b3953f076",
   "metadata": {},
   "outputs": [],
   "source": [
    "PoA_mean_norm = []\n",
    "PoA_min_norm = []\n",
    "for r in R:\n",
    "    mean_tmp = []\n",
    "    min_tmp = []\n",
    "    for N in range(2,n): \n",
    "        v = np.random.uniform(0,1,(N,r))\n",
    "        b_mean = bet_Bayes_Nash(N, v)\n",
    "        b_variance = produce_variance(b_mean, v)\n",
    "        b =  negative_to_zero(bet_normal(b_mean,b_variance), v)\n",
    "        winner=np.argmax(b, axis=0)\n",
    "        Welf = v[winner, np.arange(r)]\n",
    "        Opt =v.max(axis = 0)\n",
    "        PoA = Welf/Opt\n",
    "        mean_tmp.append(np.mean(PoA))\n",
    "        min_tmp.append(min(PoA))\n",
    "    PoA_mean_norm.append(mean_tmp)\n",
    "    PoA_min_norm.append(min_tmp)"
   ]
  },
  {
   "cell_type": "code",
   "execution_count": 22,
   "id": "ddaa2945-99a3-4268-8146-d6f93a3dcd56",
   "metadata": {
    "scrolled": true
   },
   "outputs": [
    {
     "name": "stderr",
     "output_type": "stream",
     "text": [
      "C:\\Users\\bniew\\AppData\\Local\\Temp\\ipykernel_1632\\3370479727.py:20: UserWarning: You have mixed positional and keyword arguments, some input may be discarded.\n",
      "  fig.legend([ax[0,0], ax[0,0]], labels=labels,\n"
     ]
    },
    {
     "data": {
      "image/png": "[encoded data removed]",
      "text/plain": [
       "<Figure size 827x1169 with 6 Axes>"
      ]
     },
     "metadata": {},
     "output_type": "display_data"
    }
   ],
   "source": [
    "fig, ax = plt.subplots(3,2, figsize=(8.27, 11.69), sharex='all', sharey='all')\n",
    "x = list(range(2,n))\n",
    "ax[0,0].plot(x,PoA_mean_uni[0], label = 'średnia')\n",
    "ax[0,0].plot(x,PoA_min_uni[0], label = 'minimum')\n",
    "\n",
    "ax[1,0].plot(x,PoA_mean_uni[1], label = 'średnia')\n",
    "ax[1,0].plot(x,PoA_min_uni[1], label = 'minimum')\n",
    "\n",
    "ax[2,0].plot(x,PoA_mean_uni[2], label = 'średnia')\n",
    "ax[2,0].plot(x,PoA_min_uni[2], label = 'minimum')\n",
    "ax[0,1].plot(x,PoA_mean_norm[0], label = 'średnia')\n",
    "ax[0,1].plot(x,PoA_min_norm[0], label = 'minimum')\n",
    "ax[1,1].plot(x,PoA_mean_norm[1], label = 'średnia')\n",
    "ax[1,1].plot(x,PoA_min_norm[1], label = 'minimum')\n",
    "ax[2,1].plot(x,PoA_mean_norm[2], label = 'średnia')\n",
    "ax[2,1].plot(x,PoA_min_norm[2], label = 'minimum')\n",
    "\n",
    "\n",
    "labels = ['średnia', 'minimum']\n",
    "fig.legend([ax[0,0], ax[0,0]], labels=labels, \n",
    "           loc=\"upper right\") \n",
    "plt.figtext(0.5,0.89, \"R = 100\", ha=\"center\", va = \"bottom\", fontsize=12)\n",
    "plt.figtext(0.5,0.62, \"R = 1000\", ha=\"center\", va = \"bottom\", fontsize=12)\n",
    "plt.figtext(0.5,0.35, \"R = 100000\", ha=\"center\", va = \"bottom\", fontsize=12)\n",
    "fig.text(0.04, 0.5, 'nPoA przy R powtórzeń', va='center', rotation='vertical')\n",
    "fig.text(0.5, 0.04, 'Liczba graczy', ha='center')\n",
    "plt.ylim(0, 1.05)\n",
    "\n",
    "plt.savefig('pictures/extras/repetitions.png')"
   ]
  },
  {
   "cell_type": "markdown",
   "id": "3e7ff34d-6b63-4ee0-ad3a-f77299903b30",
   "metadata": {},
   "source": [
    "### Wpływ zmiany ilości graczy"
   ]
  },
  {
   "cell_type": "code",
   "execution_count": 23,
   "id": "d555ed57-135a-46f1-947b-f9dedfb4b6fd",
   "metadata": {},
   "outputs": [],
   "source": [
    "NN = [200, 400, 1000]\n",
    "r = 10000"
   ]
  },
  {
   "cell_type": "code",
   "execution_count": 24,
   "id": "a57aada2-4d3b-47c6-a0c5-e0c0000f79dc",
   "metadata": {},
   "outputs": [],
   "source": [
    "PoA_mean_uni = []\n",
    "PoA_min_uni = []\n",
    "for n in NN:\n",
    "    mean_tmp = []\n",
    "    min_tmp = []\n",
    "    for N in range(2,n): \n",
    "        v = np.random.uniform(0,1,(N,r))\n",
    "        b = bet_random(v)\n",
    "        winner=np.argmax(b, axis=0)\n",
    "        Welf = v[winner, np.arange(r)]\n",
    "        Opt =v.max(axis = 0)\n",
    "        PoA = Welf/Opt\n",
    "        mean_tmp.append(np.mean(PoA))\n",
    "        min_tmp.append(min(PoA))\n",
    "    PoA_mean_uni.append(mean_tmp)\n",
    "    PoA_min_uni.append(min_tmp)"
   ]
  },
  {
   "cell_type": "code",
   "execution_count": null,
   "id": "8401f23a-5321-4132-8784-2f44cda59cb3",
   "metadata": {},
   "outputs": [],
   "source": [
    "PoA_mean_norm = []\n",
    "PoA_min_norm = []\n",
    "for n in NN:\n",
    "    mean_tmp = []\n",
    "    min_tmp = []\n",
    "    for N in range(2,n): \n",
    "        v = np.random.uniform(0,1,(N,r))\n",
    "        b_mean = bet_Bayes_Nash(N, v)\n",
    "        b_variance = produce_variance(b_mean, v)\n",
    "        b =  negative_to_zero(bet_normal(b_mean,b_variance), v)\n",
    "        winner=np.argmax(b, axis=0)\n",
    "        Welf = v[winner, np.arange(r)]\n",
    "        Opt =v.max(axis = 0)\n",
    "        PoA = Welf/Opt\n",
    "        mean_tmp.append(np.mean(PoA))\n",
    "        min_tmp.append(min(PoA))\n",
    "    PoA_mean_norm.append(mean_tmp)\n",
    "    PoA_min_norm.append(min_tmp)"
   ]
  },
  {
   "cell_type": "code",
   "execution_count": null,
   "id": "e8d26fe1-1f3c-413f-ad5a-fceb7ed04c8e",
   "metadata": {},
   "outputs": [],
   "source": [
    "fig, ax = plt.subplots(3,2, figsize=(8.27, 11.69), sharey='all')\n",
    "x = list(range(2,200))\n",
    "ax[0,0].plot(x,PoA_mean_uni[0], label = 'średnia')\n",
    "ax[0,0].plot(x,PoA_min_uni[0], label = 'minimum')\n",
    "ax[0,1].plot(x,PoA_mean_norm[0], label = 'średnia')\n",
    "ax[0,1].plot(x,PoA_min_norm[0], label = 'minimum')\n",
    "x = list(range(2,400))\n",
    "\n",
    "ax[1,0].plot(x,PoA_mean_uni[1], label = 'średnia')\n",
    "ax[1,0].plot(x,PoA_min_uni[1], label = 'minimum')\n",
    "ax[1,1].plot(x,PoA_mean_norm[1], label = 'średnia')\n",
    "ax[1,1].plot(x,PoA_min_norm[1], label = 'minimum')\n",
    "x = list(range(2,1000))\n",
    "ax[2,0].plot(x,PoA_mean_uni[2], label = 'średnia')\n",
    "ax[2,0].plot(x,PoA_min_uni[2], label = 'minimum')\n",
    "ax[2,1].plot(x,PoA_mean_norm[2], label = 'średnia')\n",
    "ax[2,1].plot(x,PoA_min_norm[2], label = 'minimum')\n",
    "\n",
    "\n",
    "\n",
    "\n",
    "\n",
    "labels = ['średnia', 'minimum']\n",
    "fig.legend([ax[0,0], ax[0,0]], labels=labels, \n",
    "           loc=\"upper right\") \n",
    "plt.figtext(0.5,0.89, \"N = 200\", ha=\"center\", va = \"bottom\", fontsize=12)\n",
    "plt.figtext(0.5,0.615, \"N = 500\", ha=\"center\", va = \"bottom\", fontsize=12)\n",
    "plt.figtext(0.5,0.345, \"N = 1000\", ha=\"center\", va = \"bottom\", fontsize=12)\n",
    "fig.text(0.04, 0.5, 'nPoA przy N maksymalnej liczbie graczy', va='center', rotation='vertical')\n",
    "fig.text(0.5, 0.04, 'Liczba graczy', ha='center')\n",
    "plt.ylim(0, 1.05)\n",
    "\n",
    "plt.savefig('pictures/extras/No_players_no_overbetting.png')"
   ]
  },
  {
   "cell_type": "code",
   "execution_count": null,
   "id": "cf002203-f94e-463a-a14f-e70a0927074e",
   "metadata": {},
   "outputs": [],
   "source": [
    "PoA_mean_norm_over = []\n",
    "PoA_min_norm_over = []\n",
    "for n in NN:\n",
    "    mean_tmp = []\n",
    "    min_tmp = []\n",
    "    for N in range(2,n): \n",
    "        v = np.random.uniform(0,1,(N,r))\n",
    "        b_mean = bet_Bayes_Nash(N, v)\n",
    "        b_variance = produce_variance(b_mean, 1)\n",
    "        b =  negative_to_zero(bet_normal(b_mean,b_variance), v)\n",
    "        winner=np.argmax(b, axis=0)\n",
    "        Welf = v[winner, np.arange(r)]\n",
    "        Opt =v.max(axis = 0)\n",
    "        PoA = Welf/Opt\n",
    "        mean_tmp.append(np.mean(PoA))\n",
    "        min_tmp.append(min(PoA))\n",
    "    PoA_mean_norm_over.append(mean_tmp)\n",
    "    PoA_min_norm_over.append(min_tmp)"
   ]
  },
  {
   "cell_type": "code",
   "execution_count": null,
   "id": "56c96b75-fb85-4a69-ab15-eb17aaa5c6b4",
   "metadata": {},
   "outputs": [],
   "source": [
    "fig, ax = plt.subplots(3,2, figsize=(8.27, 11.69), sharey='all')\n",
    "x = list(range(2,200))\n",
    "ax[0,0].plot(x,PoA_mean_uni[0], label = 'średnia')\n",
    "ax[0,0].plot(x,PoA_min_uni[0], label = 'minimum')\n",
    "ax[0,1].plot(x,PoA_mean_norm_over[0], label = 'średnia')\n",
    "ax[0,1].plot(x,PoA_min_norm_over[0], label = 'minimum')\n",
    "x = list(range(2,400))\n",
    "\n",
    "ax[1,0].plot(x,PoA_mean_uni[1], label = 'średnia')\n",
    "ax[1,0].plot(x,PoA_min_uni[1], label = 'minimum')\n",
    "ax[1,1].plot(x,PoA_mean_norm_over[1], label = 'średnia')\n",
    "ax[1,1].plot(x,PoA_min_norm_over[1], label = 'minimum')\n",
    "x = list(range(2,1000))\n",
    "ax[2,0].plot(x,PoA_mean_uni[2], label = 'średnia')\n",
    "ax[2,0].plot(x,PoA_min_uni[2], label = 'minimum')\n",
    "ax[2,1].plot(x,PoA_mean_norm_over[2], label = 'średnia')\n",
    "ax[2,1].plot(x,PoA_min_norm_over[2], label = 'minimum')\n",
    "\n",
    "\n",
    "\n",
    "\n",
    "\n",
    "labels = ['średnia', 'minimum']\n",
    "fig.legend([ax[0,0], ax[0,0]], labels=labels, \n",
    "           loc=\"upper right\") \n",
    "plt.figtext(0.5,0.89, \"N = 200\", ha=\"center\", va = \"bottom\", fontsize=12)\n",
    "plt.figtext(0.5,0.615, \"N = 500\", ha=\"center\", va = \"bottom\", fontsize=12)\n",
    "plt.figtext(0.5,0.345, \"N = 1000\", ha=\"center\", va = \"bottom\", fontsize=12)\n",
    "fig.text(0.04, 0.5, 'nPoA przy N maksymalnej liczbie graczy', va='center', rotation='vertical')\n",
    "fig.text(0.5, 0.04, 'Liczba graczy', ha='center')\n",
    "plt.ylim(0, 1.05)\n",
    "\n",
    "plt.savefig('pictures/extras/No_players_overbetting.png')"
   ]
  },
  {
   "cell_type": "markdown",
   "id": "ec18487f-ff4d-4f6e-832d-649bbb9340b3",
   "metadata": {},
   "source": [
    "## Gdy zakłady pochodzą z [0,1] dla pierwszego gracza oraz [0,2] dla drugiego"
   ]
  },
  {
   "cell_type": "markdown",
   "id": "af1b6047-a4a0-4a95-8667-589fe3c274b9",
   "metadata": {},
   "source": [
    "### Wykres wartości równowagi Bayesa-Nasha"
   ]
  },
  {
   "cell_type": "code",
   "execution_count": null,
   "id": "d5dbacb7-2a1c-4970-81dc-7afa61c9005c",
   "metadata": {},
   "outputs": [],
   "source": [
    "x_1 = np.linspace(0.001, 1, 100)\n",
    "x_2 = np.linspace(0.001, 2, 100)"
   ]
  },
  {
   "cell_type": "code",
   "execution_count": null,
   "id": "58ef27f6-6665-47b5-a474-252c4c3c977a",
   "metadata": {},
   "outputs": [],
   "source": [
    "y1 = bet_uneven_Bayes_Nash(x_1, 1)\n",
    "y2 = bet_uneven_Bayes_Nash(x_2, 2)\n",
    "y = y1-y2"
   ]
  },
  {
   "cell_type": "code",
   "execution_count": null,
   "id": "56353087-c922-4050-b7b6-543e7d7f2084",
   "metadata": {},
   "outputs": [],
   "source": [
    "fig, ax = plt.subplots()\n",
    "ax.plot(x_1, y1, label = r'$v\\in [0,1]$')\n",
    "ax.plot(x_2, y2, label = r'$v\\in [0,2]$')\n",
    "ax.legend()\n",
    "plt.xlabel(r'$v$')\n",
    "plt.ylabel(r'$b$')\n",
    "plt.savefig('bayes_nash_uneven.png')"
   ]
  },
  {
   "cell_type": "code",
   "execution_count": null,
   "id": "f1710c6d-edab-4c0e-920a-a9fece18136c",
   "metadata": {},
   "outputs": [],
   "source": [
    "bet_uneven_Bayes_Nash(0.9, 1)"
   ]
  },
  {
   "cell_type": "code",
   "execution_count": null,
   "id": "2eff7835-475b-4d5b-937f-f8230c6b3708",
   "metadata": {},
   "outputs": [],
   "source": [
    "bet_uneven_Bayes_Nash(1.1, 2)"
   ]
  },
  {
   "cell_type": "markdown",
   "id": "ee96cb76-42ae-4a08-a791-3bd4b4bb1e63",
   "metadata": {},
   "source": [
    "### Sprawdzanie średniej wartości ceny anarchii"
   ]
  },
  {
   "cell_type": "code",
   "execution_count": null,
   "id": "4be50eeb-a16f-4d34-b7d5-02493433233d",
   "metadata": {},
   "outputs": [],
   "source": [
    "r = 10000"
   ]
  },
  {
   "cell_type": "code",
   "execution_count": null,
   "id": "79e6ca80-48b0-4014-bbd3-3a075d311881",
   "metadata": {},
   "outputs": [],
   "source": [
    "PoA_mean = []\n",
    "PoA_min = []\n",
    "v1 = np.random.uniform(0, 1)\n",
    "v2 = np.random.uniform(0, 2)\n",
    "v = np.vstack((v1, v2))\n",
    "b =  bet_random(v)\n",
    "winner=np.argmax(b, axis=0)\n",
    "Welf = v[winner][0][0]\n",
    "Opt =v.max(axis = 0)[0]\n",
    "PoA = [Welf/Opt]\n",
    "PoA_mean.append(np.mean(PoA))\n",
    "PoA_min.append(min(PoA))\n",
    "\n",
    "for R in range(2,r): \n",
    "    v1 = np.random.uniform(0, 1)\n",
    "    v2 = np.random.uniform(0, 2)\n",
    "    v = np.vstack((v1, v2))\n",
    "    b =  bet_random(v)\n",
    "    winner=np.argmax(b, axis=0)\n",
    "    Welf = v[winner][0][0]\n",
    "    Opt =v.max(axis = 0)[0]\n",
    "    PoA.append(Welf/Opt)\n",
    "    PoA_mean.append(np.mean(PoA))\n",
    "    PoA_min.append(min(PoA))"
   ]
  },
  {
   "cell_type": "code",
   "execution_count": null,
   "id": "32aeebe6-3c5e-4976-82e5-f6c377357ab3",
   "metadata": {},
   "outputs": [],
   "source": [
    "fig, ax = plt.subplots()\n",
    "x = list(range(1,r))\n",
    "ax.plot(x,PoA_mean, label = 'średnia')\n",
    "ax.plot(x,PoA_min, label = 'minimum')\n",
    "plt.xlabel(\"Liczba powtórzeń\")\n",
    "plt.ylabel(\"nPoA\")\n",
    "ax.legend(loc='best')\n",
    "plt.ylim(0, 1.05)\n",
    "plt.savefig('pictures/uniform/uniform_uneven.png')"
   ]
  },
  {
   "cell_type": "code",
   "execution_count": null,
   "id": "9efa518b-4405-427e-86ab-805f2ae60988",
   "metadata": {},
   "outputs": [],
   "source": [
    "PoA_mean = []\n",
    "PoA_min = []\n",
    "v1 = np.random.uniform(0, 1)\n",
    "v2 = np.random.uniform(0, 2)\n",
    "v = np.vstack((v1, v2))\n",
    "b1 = bet_normal_uneven(v1, 1)\n",
    "b2 = bet_normal_uneven(v2, 2)\n",
    "b =  np.vstack((b1, b2))\n",
    "winner=np.argmax(b, axis=0)\n",
    "Welf = v[winner][0][0]\n",
    "Opt =v.max(axis = 0)[0]\n",
    "PoA = [Welf/Opt]\n",
    "PoA_mean.append(np.mean(PoA))\n",
    "PoA_min.append(min(PoA))\n",
    "\n",
    "\n",
    "for R in range(2,r): \n",
    "    v1 = np.random.uniform(0, 1)\n",
    "    v2 = np.random.uniform(0, 2)\n",
    "    v = np.vstack((v1, v2))\n",
    "    b1 = max(min(bet_normal_uneven(v1, 1), 1), 0)\n",
    "    b2 = max(min(bet_normal_uneven(v2, 2), 2), 0)\n",
    "    b =  np.vstack((b1, b2))\n",
    "    winner=np.argmax(b, axis=0)\n",
    "    Welf = v[winner][0][0]\n",
    "    Opt =v.max(axis = 0)[0]\n",
    "    PoA.append(Welf/Opt)\n",
    "    PoA_mean.append(np.mean(PoA))\n",
    "    PoA_min.append(min(PoA))"
   ]
  },
  {
   "cell_type": "code",
   "execution_count": null,
   "id": "9c23faec-7ef5-4cae-9983-d406f9779401",
   "metadata": {},
   "outputs": [],
   "source": [
    "fig, ax = plt.subplots()\n",
    "x = list(range(1,r))\n",
    "ax.plot(x,PoA_mean, label = 'średnia')\n",
    "ax.plot(x,PoA_min, label = 'minimum')\n",
    "plt.xlabel(\"Liczba powtórzeń\")\n",
    "plt.ylabel(\"nPoA\")\n",
    "ax.legend(loc='best')\n",
    "plt.ylim(0, 1.05)\n",
    "plt.savefig('pictures/extras/normal_uneven.png')"
   ]
  }
 ],
 "metadata": {
  "kernelspec": {
   "display_name": "Python 3 (ipykernel)",
   "language": "python",
   "name": "python3"
  },
  "language_info": {
   "codemirror_mode": {
    "name": "ipython",
    "version": 3
   },
   "file_extension": ".py",
   "mimetype": "text/x-python",
   "name": "python",
   "nbconvert_exporter": "python",
   "pygments_lexer": "ipython3",
   "version": "3.10.13"
  }
 },
 "nbformat": 4,
 "nbformat_minor": 5
}
